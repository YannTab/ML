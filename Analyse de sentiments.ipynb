{
 "cells": [
  {
   "cell_type": "markdown",
   "id": "392acb3f",
   "metadata": {},
   "source": [
    "# NTSAMA TABETSING Yann Fabio 4GI 19P020"
   ]
  },
  {
   "cell_type": "markdown",
   "id": "5dae3f50",
   "metadata": {},
   "source": [
    "## I. Import libraries"
   ]
  },
  {
   "cell_type": "code",
   "execution_count": 1,
   "id": "2bc61b50",
   "metadata": {},
   "outputs": [],
   "source": [
    "#Dataset management\n",
    "import numpy as np\n",
    "import pandas as pd\n",
    "\n",
    "#Matplot\n",
    "import matplotlib.pyplot as plt\n",
    "%matplotlib inline\n",
    "\n",
    "#ntlk\n",
    "import nltk\n",
    "from nltk.corpus import stopwords\n",
    "from nltk.stem import SnowballStemmer\n",
    "\n",
    "#utils\n",
    "import os\n",
    "import time\n",
    "import re\n",
    "import pickle\n",
    "\n",
    "#Sklearn\n",
    "from sklearn.model_selection import train_test_split\n",
    "from sklearn.feature_extraction.text import TfidfVectorizer\n",
    "from sklearn.svm import SVC\n",
    "from sklearn.tree import DecisionTreeClassifier\n",
    "from sklearn.naive_bayes import GaussianNB\n",
    "from sklearn.naive_bayes import MultinomialNB\n",
    "from sklearn.discriminant_analysis import LinearDiscriminantAnalysis as LDA\n",
    "from sklearn.metrics import precision_score, recall_score\n"
   ]
  },
  {
   "cell_type": "markdown",
   "id": "24e820b6",
   "metadata": {},
   "source": [
    "## II. Import data"
   ]
  },
  {
   "cell_type": "code",
   "execution_count": 2,
   "id": "9ebc0ea9",
   "metadata": {},
   "outputs": [
    {
     "data": {
      "text/html": [
       "<div>\n",
       "<style scoped>\n",
       "    .dataframe tbody tr th:only-of-type {\n",
       "        vertical-align: middle;\n",
       "    }\n",
       "\n",
       "    .dataframe tbody tr th {\n",
       "        vertical-align: top;\n",
       "    }\n",
       "\n",
       "    .dataframe thead th {\n",
       "        text-align: right;\n",
       "    }\n",
       "</style>\n",
       "<table border=\"1\" class=\"dataframe\">\n",
       "  <thead>\n",
       "    <tr style=\"text-align: right;\">\n",
       "      <th></th>\n",
       "      <th>reviews</th>\n",
       "      <th>sentiment</th>\n",
       "    </tr>\n",
       "  </thead>\n",
       "  <tbody>\n",
       "    <tr>\n",
       "      <th>15299</th>\n",
       "      <td>\"I Am Curious: Yellow\" is a risible and preten...</td>\n",
       "      <td>0</td>\n",
       "    </tr>\n",
       "    <tr>\n",
       "      <th>24872</th>\n",
       "      <td>Cassavetes was clearly an intelligent, sensiti...</td>\n",
       "      <td>0</td>\n",
       "    </tr>\n",
       "    <tr>\n",
       "      <th>4732</th>\n",
       "      <td>A film that is so much a 30's Warners film in ...</td>\n",
       "      <td>1</td>\n",
       "    </tr>\n",
       "    <tr>\n",
       "      <th>7268</th>\n",
       "      <td>After \"A Dirty Shame\", I never thought that I ...</td>\n",
       "      <td>1</td>\n",
       "    </tr>\n",
       "    <tr>\n",
       "      <th>19475</th>\n",
       "      <td>With the rising popularity of the now iconic G...</td>\n",
       "      <td>0</td>\n",
       "    </tr>\n",
       "    <tr>\n",
       "      <th>21809</th>\n",
       "      <td>This will be best known for the Ferrari that w...</td>\n",
       "      <td>0</td>\n",
       "    </tr>\n",
       "  </tbody>\n",
       "</table>\n",
       "</div>"
      ],
      "text/plain": [
       "                                                 reviews  sentiment\n",
       "15299  \"I Am Curious: Yellow\" is a risible and preten...          0\n",
       "24872  Cassavetes was clearly an intelligent, sensiti...          0\n",
       "4732   A film that is so much a 30's Warners film in ...          1\n",
       "7268   After \"A Dirty Shame\", I never thought that I ...          1\n",
       "19475  With the rising popularity of the now iconic G...          0\n",
       "21809  This will be best known for the Ferrari that w...          0"
      ]
     },
     "metadata": {},
     "output_type": "display_data"
    },
    {
     "name": "stdout",
     "output_type": "stream",
     "text": [
      "Wall time: 3min 24s\n"
     ]
    }
   ],
   "source": [
    "%%time\n",
    "path = \"../aclImdb/\"\n",
    "\n",
    "positiveFiles = [x for x in os.listdir(path+\"train/pos/\") if x.endswith(\".txt\")]\n",
    "negativeFiles = [x for x in os.listdir(path+\"train/neg/\") if x.endswith(\".txt\")]\n",
    "\n",
    "positiveReviews, negativeReviews = [], []\n",
    "\n",
    "for pfile in positiveFiles:\n",
    "    with open(path+\"train/pos/\"+pfile, encoding=\"latin1\") as f:\n",
    "        positiveReviews.append(f.read())\n",
    "        \n",
    "for nfile in negativeFiles:\n",
    "    with open(path+\"train/neg/\"+nfile, encoding=\"latin1\") as f:\n",
    "        negativeReviews.append(f.read())\n",
    "        \n",
    "data = pd.concat([\n",
    "    pd.DataFrame({\"reviews\":positiveReviews, \"sentiment\":1}),\n",
    "    pd.DataFrame({\"reviews\":negativeReviews, \"sentiment\":0}),\n",
    "], ignore_index=True).sample(frac=0.25, random_state=1)\n",
    "\n",
    "\n",
    "\n",
    "display(data.sample(6))"
   ]
  },
  {
   "cell_type": "code",
   "execution_count": 3,
   "id": "ff6ab4a6",
   "metadata": {
    "scrolled": true
   },
   "outputs": [
    {
     "name": "stdout",
     "output_type": "stream",
     "text": [
      "(6250, 2)\n"
     ]
    }
   ],
   "source": [
    "print(data.shape)\n"
   ]
  },
  {
   "cell_type": "markdown",
   "id": "b3ca6b86",
   "metadata": {},
   "source": [
    "## III. Preprocessing reviews's Text"
   ]
  },
  {
   "cell_type": "code",
   "execution_count": null,
   "id": "53bbd892",
   "metadata": {},
   "outputs": [],
   "source": []
  },
  {
   "cell_type": "code",
   "execution_count": 4,
   "id": "93ee4394",
   "metadata": {},
   "outputs": [],
   "source": [
    "stemmer = SnowballStemmer(\"english\")\n",
    "\n",
    "TEXT_CLEANING_REGEX = \"@\\S+|https?:\\S+|http?:\\S|[^A-Za-z0-9]+\"\n",
    "\n",
    "def preprocess(text, stem=False):\n",
    "    # Preprocessing of the reviews\n",
    "    text = re.sub(TEXT_CLEANING_REGEX, ' ', str(text).lower()).strip()\n",
    "    tokens = []\n",
    "    for token in text.split():\n",
    "        if stem:\n",
    "            tokens.append(stemmer.stem(token))\n",
    "        else:\n",
    "            tokens.append(token)\n",
    "    return \" \".join(tokens)"
   ]
  },
  {
   "cell_type": "code",
   "execution_count": 5,
   "id": "f1b5a298",
   "metadata": {},
   "outputs": [
    {
     "name": "stdout",
     "output_type": "stream",
     "text": [
      "Wall time: 20.2 s\n"
     ]
    }
   ],
   "source": [
    "%%time\n",
    "\n",
    "data.reviews = data.reviews.apply(lambda x:preprocess(x, stem=True))"
   ]
  },
  {
   "cell_type": "code",
   "execution_count": 6,
   "id": "950cfba4",
   "metadata": {},
   "outputs": [
    {
     "data": {
      "text/html": [
       "<div>\n",
       "<style scoped>\n",
       "    .dataframe tbody tr th:only-of-type {\n",
       "        vertical-align: middle;\n",
       "    }\n",
       "\n",
       "    .dataframe tbody tr th {\n",
       "        vertical-align: top;\n",
       "    }\n",
       "\n",
       "    .dataframe thead th {\n",
       "        text-align: right;\n",
       "    }\n",
       "</style>\n",
       "<table border=\"1\" class=\"dataframe\">\n",
       "  <thead>\n",
       "    <tr style=\"text-align: right;\">\n",
       "      <th></th>\n",
       "      <th>reviews</th>\n",
       "      <th>sentiment</th>\n",
       "    </tr>\n",
       "  </thead>\n",
       "  <tbody>\n",
       "    <tr>\n",
       "      <th>21492</th>\n",
       "      <td>i have copi of this on vhs i think they the te...</td>\n",
       "      <td>0</td>\n",
       "    </tr>\n",
       "    <tr>\n",
       "      <th>9488</th>\n",
       "      <td>after sever extrem well rate to the point of s...</td>\n",
       "      <td>1</td>\n",
       "    </tr>\n",
       "    <tr>\n",
       "      <th>16933</th>\n",
       "      <td>i still don t know whi i forc myself to sit th...</td>\n",
       "      <td>0</td>\n",
       "    </tr>\n",
       "    <tr>\n",
       "      <th>12604</th>\n",
       "      <td>mt littl sister and i are self proclaim horror...</td>\n",
       "      <td>0</td>\n",
       "    </tr>\n",
       "    <tr>\n",
       "      <th>8222</th>\n",
       "      <td>i have person seen mani disney movi in my life...</td>\n",
       "      <td>1</td>\n",
       "    </tr>\n",
       "  </tbody>\n",
       "</table>\n",
       "</div>"
      ],
      "text/plain": [
       "                                                 reviews  sentiment\n",
       "21492  i have copi of this on vhs i think they the te...          0\n",
       "9488   after sever extrem well rate to the point of s...          1\n",
       "16933  i still don t know whi i forc myself to sit th...          0\n",
       "12604  mt littl sister and i are self proclaim horror...          0\n",
       "8222   i have person seen mani disney movi in my life...          1"
      ]
     },
     "execution_count": 6,
     "metadata": {},
     "output_type": "execute_result"
    }
   ],
   "source": [
    "data.head()"
   ]
  },
  {
   "cell_type": "markdown",
   "id": "f7ed798b",
   "metadata": {},
   "source": [
    "## IV. Training and testing data"
   ]
  },
  {
   "cell_type": "code",
   "execution_count": 7,
   "id": "eb66d7f2",
   "metadata": {},
   "outputs": [],
   "source": [
    "train, test = train_test_split(data, test_size=0.2, random_state=42)\n",
    "\n",
    "train_X, train_y = train['reviews'], train['sentiment']\n",
    "test_X, test_y = test['reviews'], test['sentiment']"
   ]
  },
  {
   "cell_type": "code",
   "execution_count": 8,
   "id": "7b9bdfa2",
   "metadata": {},
   "outputs": [
    {
     "data": {
      "text/plain": [
       "1    2514\n",
       "0    2486\n",
       "Name: sentiment, dtype: int64"
      ]
     },
     "execution_count": 8,
     "metadata": {},
     "output_type": "execute_result"
    }
   ],
   "source": [
    "train_y.value_counts()"
   ]
  },
  {
   "cell_type": "markdown",
   "id": "be84d506",
   "metadata": {},
   "source": [
    "## V. Extracting feature vectors from words"
   ]
  },
  {
   "cell_type": "code",
   "execution_count": 9,
   "id": "e23e3846",
   "metadata": {},
   "outputs": [],
   "source": [
    "tfidf = TfidfVectorizer(stop_words='english')\n",
    "\n",
    "\n",
    "tfidf.fit_transform(train_X)\n",
    "train_X_vector = tfidf.transform(train_X)\n",
    "test_X_vector = tfidf.transform(test_X)"
   ]
  },
  {
   "cell_type": "markdown",
   "id": "2a2d17de",
   "metadata": {},
   "source": [
    "## VI. Training models"
   ]
  },
  {
   "cell_type": "code",
   "execution_count": 10,
   "id": "0536e180",
   "metadata": {},
   "outputs": [],
   "source": [
    "comment = ['I did not like this movie at all I gave this movie away']\n",
    "comment[0] = preprocess(comment[0], True)\n",
    "\n",
    "comment_vector = tfidf.transform(comment)"
   ]
  },
  {
   "cell_type": "markdown",
   "id": "8457af92",
   "metadata": {},
   "source": [
    "### 1. SVM"
   ]
  },
  {
   "cell_type": "code",
   "execution_count": 11,
   "id": "11409b8e",
   "metadata": {},
   "outputs": [
    {
     "name": "stdout",
     "output_type": "stream",
     "text": [
      "Wall time: 15.4 s\n"
     ]
    },
    {
     "data": {
      "text/plain": [
       "SVC(kernel='linear')"
      ]
     },
     "execution_count": 11,
     "metadata": {},
     "output_type": "execute_result"
    }
   ],
   "source": [
    "%%time\n",
    "\n",
    "svc = SVC(kernel='linear')\n",
    "svc.fit(train_X_vector, train_y)"
   ]
  },
  {
   "cell_type": "code",
   "execution_count": 12,
   "id": "6dcacd45",
   "metadata": {},
   "outputs": [
    {
     "name": "stdout",
     "output_type": "stream",
     "text": [
      "[0]\n"
     ]
    }
   ],
   "source": [
    "print(svc.predict(comment_vector))"
   ]
  },
  {
   "cell_type": "markdown",
   "id": "8e4eb4d5",
   "metadata": {},
   "source": [
    "### 2. Decision Tree"
   ]
  },
  {
   "cell_type": "code",
   "execution_count": 13,
   "id": "1e5477e8",
   "metadata": {
    "scrolled": true
   },
   "outputs": [
    {
     "name": "stdout",
     "output_type": "stream",
     "text": [
      "Wall time: 2.7 s\n"
     ]
    },
    {
     "data": {
      "text/plain": [
       "DecisionTreeClassifier()"
      ]
     },
     "execution_count": 13,
     "metadata": {},
     "output_type": "execute_result"
    }
   ],
   "source": [
    "%%time\n",
    "\n",
    "dec_tree = DecisionTreeClassifier()\n",
    "dec_tree.fit(train_X_vector, train_y)"
   ]
  },
  {
   "cell_type": "code",
   "execution_count": 14,
   "id": "a18f319d",
   "metadata": {
    "scrolled": true
   },
   "outputs": [
    {
     "name": "stdout",
     "output_type": "stream",
     "text": [
      "[1]\n"
     ]
    }
   ],
   "source": [
    "print(dec_tree.predict(comment_vector))"
   ]
  },
  {
   "cell_type": "markdown",
   "id": "334abaf0",
   "metadata": {},
   "source": [
    "### 3. Naive Bayes"
   ]
  },
  {
   "cell_type": "code",
   "execution_count": 15,
   "id": "4051cc79",
   "metadata": {},
   "outputs": [
    {
     "name": "stdout",
     "output_type": "stream",
     "text": [
      "Wall time: 27.9 s\n"
     ]
    },
    {
     "data": {
      "text/plain": [
       "GaussianNB()"
      ]
     },
     "execution_count": 15,
     "metadata": {},
     "output_type": "execute_result"
    }
   ],
   "source": [
    "%%time\n",
    "\n",
    "gnb = GaussianNB()\n",
    "gnb.fit(train_X_vector.toarray(), train_y)"
   ]
  },
  {
   "cell_type": "code",
   "execution_count": 17,
   "id": "bad1d1cf",
   "metadata": {},
   "outputs": [
    {
     "name": "stdout",
     "output_type": "stream",
     "text": [
      "Wall time: 4.86 s\n"
     ]
    },
    {
     "data": {
      "text/plain": [
       "MultinomialNB()"
      ]
     },
     "execution_count": 17,
     "metadata": {},
     "output_type": "execute_result"
    }
   ],
   "source": [
    "%%time \n",
    "\n",
    "mnb = MultinomialNB()\n",
    "mnb.fit(train_X_vector.toarray(), train_y)"
   ]
  },
  {
   "cell_type": "code",
   "execution_count": 18,
   "id": "cfe72204",
   "metadata": {},
   "outputs": [
    {
     "name": "stdout",
     "output_type": "stream",
     "text": [
      "[0]\n"
     ]
    }
   ],
   "source": [
    "print(mnb.predict(comment_vector.toarray()))"
   ]
  },
  {
   "cell_type": "code",
   "execution_count": 69,
   "id": "5f0047d8",
   "metadata": {},
   "outputs": [
    {
     "name": "stdout",
     "output_type": "stream",
     "text": [
      "0.0\n"
     ]
    }
   ],
   "source": [
    "print(float(gnb.predict(comment_vector.toarray())))"
   ]
  },
  {
   "cell_type": "markdown",
   "id": "78c1c13c",
   "metadata": {},
   "source": [
    "### 4. LDA"
   ]
  },
  {
   "cell_type": "code",
   "execution_count": 41,
   "id": "590f3cca",
   "metadata": {
    "scrolled": true
   },
   "outputs": [
    {
     "name": "stdout",
     "output_type": "stream",
     "text": [
      "Wall time: 5h 28min 3s\n"
     ]
    },
    {
     "data": {
      "text/plain": [
       "LinearDiscriminantAnalysis()"
      ]
     },
     "execution_count": 41,
     "metadata": {},
     "output_type": "execute_result"
    }
   ],
   "source": [
    "%%time\n",
    "\n",
    "lda = LDA()\n",
    "lda.fit(train_X_vector.toarray(), train_y)"
   ]
  },
  {
   "cell_type": "code",
   "execution_count": 47,
   "id": "f5cc316b",
   "metadata": {},
   "outputs": [
    {
     "name": "stdout",
     "output_type": "stream",
     "text": [
      "[0]\n"
     ]
    }
   ],
   "source": [
    "print(lda.predict(comment_vector.toarray()))"
   ]
  },
  {
   "cell_type": "markdown",
   "id": "6ee2fb66",
   "metadata": {},
   "source": [
    "## VII. Models evaluation\n",
    "\n"
   ]
  },
  {
   "cell_type": "code",
   "execution_count": 20,
   "id": "7e9660e0",
   "metadata": {},
   "outputs": [
    {
     "name": "stdout",
     "output_type": "stream",
     "text": [
      "SVM evaluation\n",
      "Recall: 0.874214\n",
      "Precision: 0.859351\n",
      "---------------------------------------------------\n",
      "Decision Tree evaluation\n",
      "Recall: 0.685535\n",
      "Precision: 0.689873\n",
      "---------------------------------------------------\n",
      "Gaussian Naive Bayes evaluation\n",
      "Recall: 0.842767\n",
      "Precision: 0.861736\n",
      "---------------------------------------------------\n"
     ]
    },
    {
     "data": {
      "text/plain": [
       "'\\nprint(\"LDA evaluation\")\\nrecall = recall_score(test_y, lda.predict(test_X_vector.toarray()))\\nprint(\\'Recall: %f\\' % recall)\\nprecision = precision_score(test_y, lda.predict(test_X_vector.toarray()))\\nprint(\\'Precision: %f\\' % precision)'"
      ]
     },
     "execution_count": 20,
     "metadata": {},
     "output_type": "execute_result"
    }
   ],
   "source": [
    "#SVM\n",
    "print(\"SVM evaluation\")\n",
    "recall = recall_score(test_y, svc.predict(test_X_vector))\n",
    "print('Recall: %f' % recall)\n",
    "precision = precision_score(test_y, svc.predict(test_X_vector))\n",
    "print('Precision: %f' % precision)\n",
    "print(\"---------------------------------------------------\")\n",
    "\n",
    "#Decision Tree\n",
    "print(\"Decision Tree evaluation\")\n",
    "recall = recall_score(test_y, dec_tree.predict(test_X_vector))\n",
    "print('Recall: %f' % recall)\n",
    "precision = precision_score(test_y, dec_tree.predict(test_X_vector))\n",
    "print('Precision: %f' % precision)\n",
    "print(\"---------------------------------------------------\")\n",
    "\n",
    "#Gaussian Naive Bayes\n",
    "print(\"Gaussian Naive Bayes evaluation\")\n",
    "recall = recall_score(test_y, mnb.predict(test_X_vector.toarray()))\n",
    "print('Recall: %f' % recall)\n",
    "precision = precision_score(test_y, mnb.predict(test_X_vector.toarray()))\n",
    "print('Precision: %f' % precision)\n",
    "print(\"---------------------------------------------------\")\n",
    "\n",
    "#LDA\n",
    "\"\"\"\n",
    "print(\"LDA evaluation\")\n",
    "recall = recall_score(test_y, lda.predict(test_X_vector.toarray()))\n",
    "print('Recall: %f' % recall)\n",
    "precision = precision_score(test_y, lda.predict(test_X_vector.toarray()))\n",
    "print('Precision: %f' % precision)\"\"\""
   ]
  },
  {
   "cell_type": "markdown",
   "id": "f400e372",
   "metadata": {},
   "source": [
    "## VIII. Serializing models"
   ]
  },
  {
   "cell_type": "code",
   "execution_count": 59,
   "id": "b1a57ff5",
   "metadata": {},
   "outputs": [],
   "source": [
    "with open('sentiment_model_svm.pkl', 'wb') as f:\n",
    "    pickle.dump(svc, f)\n",
    "    \n",
    "with open('sentiment_model_decision_tree.pkl', 'wb') as f:\n",
    "    pickle.dump(dec_tree, f)\n",
    "    \n",
    "with open('sentiment_model_gaussian_naive_bayes.pkl', 'wb') as f:\n",
    "    pickle.dump(gnb, f)\n",
    "    \n",
    "with open('sentiment_model_lda.pkl', 'wb') as f:\n",
    "    pickle.dump(lda, f)"
   ]
  },
  {
   "cell_type": "code",
   "execution_count": 60,
   "id": "421d959e",
   "metadata": {},
   "outputs": [],
   "source": [
    "with open('vectorizer.pkl', 'wb') as f:\n",
    "    pickle.dump(tfidf, f)"
   ]
  },
  {
   "cell_type": "code",
   "execution_count": 70,
   "id": "07057bfc",
   "metadata": {},
   "outputs": [],
   "source": [
    "with open('preprocess.pkl', 'wb') as f:\n",
    "    pickle.dump(preprocess, f)"
   ]
  },
  {
   "cell_type": "code",
   "execution_count": 19,
   "id": "04f35703",
   "metadata": {},
   "outputs": [
    {
     "name": "stdout",
     "output_type": "stream",
     "text": [
      "Multinomial Naive Bayes evaluation\n",
      "Recall: 0.888655\n",
      "Precision: 0.852823\n",
      "---------------------------------------------------\n"
     ]
    }
   ],
   "source": [
    "#Multinomial Naive Bayes\n",
    "print(\"Multinomial Naive Bayes evaluation\")\n",
    "recall = recall_score(test_y, svc.predict(test_X_vector.toarray()))\n",
    "print('Recall: %f' % recall)\n",
    "precision = precision_score(test_y, svc.predict(test_X_vector.toarray()))\n",
    "print('Precision: %f' % precision)\n",
    "print(\"---------------------------------------------------\")"
   ]
  },
  {
   "cell_type": "code",
   "execution_count": 1,
   "id": "d7048e1b",
   "metadata": {},
   "outputs": [
    {
     "data": {
      "text/plain": [
       "'0.24.2'"
      ]
     },
     "execution_count": 1,
     "metadata": {},
     "output_type": "execute_result"
    }
   ],
   "source": [
    "import sklearn\n",
    "sklearn.__version__"
   ]
  },
  {
   "cell_type": "code",
   "execution_count": 3,
   "id": "1ba2c855",
   "metadata": {},
   "outputs": [
    {
     "data": {
      "text/plain": [
       "'3.6.5'"
      ]
     },
     "execution_count": 3,
     "metadata": {},
     "output_type": "execute_result"
    }
   ],
   "source": [
    "import nltk\n",
    "nltk.__version__"
   ]
  },
  {
   "cell_type": "code",
   "execution_count": null,
   "id": "639d28b8",
   "metadata": {},
   "outputs": [],
   "source": []
  }
 ],
 "metadata": {
  "kernelspec": {
   "display_name": "Python 3 (ipykernel)",
   "language": "python",
   "name": "python3"
  },
  "language_info": {
   "codemirror_mode": {
    "name": "ipython",
    "version": 3
   },
   "file_extension": ".py",
   "mimetype": "text/x-python",
   "name": "python",
   "nbconvert_exporter": "python",
   "pygments_lexer": "ipython3",
   "version": "3.9.7"
  }
 },
 "nbformat": 4,
 "nbformat_minor": 5
}
